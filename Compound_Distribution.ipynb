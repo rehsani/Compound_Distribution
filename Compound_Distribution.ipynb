{
  "nbformat": 4,
  "nbformat_minor": 0,
  "metadata": {
    "colab": {
      "name": "Compound_Distribution.ipynb",
      "provenance": [],
      "collapsed_sections": [],
      "include_colab_link": true
    },
    "kernelspec": {
      "name": "python3",
      "display_name": "Python 3"
    },
    "language_info": {
      "name": "python"
    }
  },
  "cells": [
    {
      "cell_type": "markdown",
      "metadata": {
        "id": "view-in-github",
        "colab_type": "text"
      },
      "source": [
        "<a href=\"https://colab.research.google.com/github/rehsani/Compound_Distributions/blob/main/Compound_Distribution.ipynb\" target=\"_parent\"><img src=\"https://colab.research.google.com/assets/colab-badge.svg\" alt=\"Open In Colab\"/></a>"
      ]
    },
    {
      "cell_type": "markdown",
      "source": [
        "<h1><b>Making Compound Probability Distribution Functions:</b></h1>\n",
        "<h3>Combining Multiple Probabilty Distribution Functions and Taking Random Samples</h3>\n",
        "<h6>Reza Ehsani & Hoshin V. Gupta</h6>\n",
        "<h6></h6>\n",
        "<li>Email: <a href='mailto:rehsani@email.arizona.edu'>rehsani@email.arizona.edu</a></h6>\n",
        "<li>GitHub: <a href='https://github.com/rehsani'>GitHub.com/rehsani</a></h6>"
      ],
      "metadata": {
        "id": "X7MeFK7lwh8a"
      }
    },
    {
      "cell_type": "markdown",
      "source": [
        "### **Glossary**\n",
        "**PDF**: Probaility Distribution Function\n",
        "\n",
        "**CDF**: Cumulative Density Function\n"
      ],
      "metadata": {
        "id": "s76EMjOSydDz"
      }
    },
    {
      "cell_type": "markdown",
      "source": [
        "### **Objective**\n",
        "In this short tutorial, we will learn how to comine multiple PDFs using [Python](https://www.python.org/) and take random samples from the resulting compund PDF."
      ],
      "metadata": {
        "id": "PuqcrCiyzxVz"
      }
    },
    {
      "cell_type": "markdown",
      "source": [
        "### **Background**\n",
        "To generate a compound PDF, $P(x)$, we can take a mixture density approach such that:\n",
        "\n",
        "\\begin{equation} \n",
        "P(x)=\\sum\\limits_{i=1}^{N_{p}}w_{i}.p_{i}(x)\n",
        "\\end{equation}\n",
        " \n",
        "where:\n",
        "\n",
        "\\begin{equation} \n",
        "\\sum\\limits_{i=1}^{N_{p}}w_{i} = 1;\n",
        "\\quad \n",
        "0 < w_{i} < 1,\n",
        "\\end{equation}\n",
        "\n",
        "\n",
        " \n",
        "and each $p_{i}(x)$ is a standard PDF that integrates to 1. The $p_{i}(x)$ component densities can be randomly selected from a set of simple basis functions densities;  \n",
        "\n",
        "- **Infinite Support**: Gaussian or Generalized Gaussian, Double Exponential \n",
        "- **Semi-Infinite Support**: Exponential, Flipped Exponential, Log-Normal \n",
        "- **Finite Support**: Uniform, Triangular \n",
        "\n",
        "The number of component densities ($N_{p}$) can be some integer value (say between 2 and 5 or more)."
      ],
      "metadata": {
        "id": "_vtIlIQjkOFn"
      }
    },
    {
      "cell_type": "markdown",
      "source": [
        "### **Code**\n",
        "\n",
        "First, we need to import required packages/libraries including [*NumPy*](https://numpy.org/), [*Matplotlib*](https://matplotlib.org/), and [*SciPy*](https://scipy.org/):"
      ],
      "metadata": {
        "id": "fnc_hnXhz1b8"
      }
    },
    {
      "cell_type": "code",
      "execution_count": 1,
      "metadata": {
        "id": "78vdfVQEwf_N"
      },
      "outputs": [],
      "source": [
        "import numpy as np\n",
        "from scipy.stats import rv_continuous, norm, uniform, expon\n",
        "import matplotlib.pyplot as plt\n",
        "plt.rcParams['figure.dpi'] = 150"
      ]
    },
    {
      "cell_type": "markdown",
      "source": [
        "Then, we use [rv_continuos](https://docs.scipy.org/doc/scipy/reference/generated/scipy.stats.rv_continuous.html#scipy.stats.rv_continuous) class of [*SciPy*](https://scipy.org/)'s [stats](https://docs.scipy.org/doc/scipy/reference/stats.html) module to define a class for making compound PDFs:"
      ],
      "metadata": {
        "id": "zmL8wCmL0MUJ"
      }
    },
    {
      "cell_type": "code",
      "source": [
        "class compound_distribution(rv_continuous):\n",
        "    \"\"\"\n",
        "    A class to make a compund PDF\n",
        "\n",
        "\n",
        "    Attributes\n",
        "    ----------\n",
        "    distributions : list, array\n",
        "        basis function densities (i.e., p_i(x)) to be used in the compound PDF\n",
        "    \n",
        "    weights : list, array\n",
        "        weights (i.e., w_i) of the basis function densities\n",
        "    \n",
        "    x : list, array\n",
        "        points to estimate PDF and CDF of the compound PDF at\n",
        "    \n",
        "    size : int\n",
        "        size of the random sample to be taken from the compound PDF\n",
        "\n",
        "\n",
        "    Methods\n",
        "    -------\n",
        "    pdf(x)\n",
        "        Returns PDF of the compound PDF at x points\n",
        "\n",
        "    cdf(x)\n",
        "        Returns CDF of the compound PDF at x points\n",
        "    \n",
        "    rvs(size)\n",
        "        Return a random sample with specified size from the compound PDF\n",
        "    \"\"\"\n",
        "    def __init__(self, distributions, weights, *args, **kwargs):\n",
        "        \"\"\"\n",
        "        Parameters\n",
        "        ----------\n",
        "        distributions : list, array\n",
        "            basis function densities (i.e., p_i(x)) to be used in the compound PDF\n",
        "    \n",
        "        weights : list, array\n",
        "            weights (i.e., w_i) of the basis function densities\n",
        "        \"\"\"\n",
        "        super().__init__(*args, **kwargs)\n",
        "        self.distributions = distributions\n",
        "        self.weights = weights\n",
        "\n",
        "    def _pdf(self, x):\n",
        "        \"\"\"\n",
        "        Parameters\n",
        "        ----------\n",
        "        x : list, array\n",
        "            points to estimate PDF of the compound PDF at\n",
        "\n",
        "        Returns\n",
        "        -------\n",
        "        pdf : array\n",
        "            PDF values at x points\n",
        "        \"\"\"\n",
        "        pdf = self.distributions[0].pdf(x) * self.weights[0]\n",
        "        for distribution, weight in zip(self.distributions[1:], self.weights[1:]):\n",
        "            pdf += distribution.pdf(x) * weight\n",
        "        return pdf\n",
        "    \n",
        "    def _cdf(self, x):\n",
        "        \"\"\"\n",
        "        Parameters\n",
        "        ----------\n",
        "        x : list, array\n",
        "            points to estimate CDF of the compound PDF at\n",
        "\n",
        "        Returns\n",
        "        -------\n",
        "        cdf : array\n",
        "            CDF values at x points\n",
        "        \"\"\"\n",
        "        cdf = self.distributions[0].cdf(x) * self.weights[0]\n",
        "        for distribution, weight in zip(self.distributions[1:], self.weights[1:]):\n",
        "            cdf += distribution.cdf(x) * weight\n",
        "        return cdf\n",
        "\n",
        "    def rvs(self, size):\n",
        "        \"\"\"\n",
        "        Parameters\n",
        "        ----------\n",
        "        size : int\n",
        "            size of the random sample to be taken from the compound PDF\n",
        "\n",
        "        Returns\n",
        "        -------\n",
        "        rvs : array\n",
        "            random sample taken from the compound PDF with specified size\n",
        "        \"\"\"\n",
        "        N_c = np.arange(len(self.distributions)) \n",
        "        distribution_choices = np.random.choice((N_c), size=size, p=self.weights)\n",
        "        distribution_samples = [distribution.rvs(size=size) for distribution in self.distributions]\n",
        "        rvs = np.choose(distribution_choices, distribution_samples)\n",
        "        return rvs"
      ],
      "metadata": {
        "id": "mSKOHR4E0M-A"
      },
      "execution_count": 2,
      "outputs": []
    },
    {
      "cell_type": "markdown",
      "source": [
        "Before testing the ***Compund_Distribution*** class, let's create a helper function to plot the PDF, CDF, and histogram of the random sample generated from the compund PDF:"
      ],
      "metadata": {
        "id": "VWhgDC9r1tWR"
      }
    },
    {
      "cell_type": "code",
      "source": [
        "def plot_compound(x, cdf, pdf, sample, bins=250):\n",
        "    \"\"\"\n",
        "    A function to plot PDF, CDF, and histogram of a random sample taken from a\n",
        "    compound PDF\n",
        "\n",
        "\n",
        "    Parameters\n",
        "    ----------\n",
        "    x : list, array\n",
        "        points that PDF or CDF of the compound PDF are estimated at\n",
        "\n",
        "    cdf : list, array\n",
        "        CDF values at x points\n",
        "    \n",
        "    pdf : list, array\n",
        "        PDF values at x points\n",
        "    \n",
        "    sample : list, array\n",
        "        a random sample taken from a compound PDF\n",
        "    \n",
        "    bins : int, default = 250\n",
        "        number of bins used to plot the histogram of the random sample\n",
        "    \"\"\"\n",
        "\n",
        "    color_1 = 'darkblue'\n",
        "    color_2 = 'darkred'\n",
        "    ax = plt.gca()\n",
        "    ax.plot(x, pdf, label='PDF', c=color_1)\n",
        "    ax.hist(sample, density=True, bins=bins)\n",
        "    ax.spines['top'].set_visible(False)\n",
        "    ax.spines['bottom'].set_visible(False)\n",
        "    ax.set_ylim(bottom=0)\n",
        "    ax.set_xlim(x.min(), x.max())\n",
        "    ax.tick_params(direction='in')\n",
        "    ax.tick_params(axis='y', colors=color_1)\n",
        "    ax.set_ylabel('Probability Distribution Function (PDF)', color=color_1)\n",
        "    twin_ax = ax.twinx()\n",
        "    twin_ax.plot(x, cdf, label='CDF', c=color_2)\n",
        "    twin_ax.set_ylim(0, 1.)\n",
        "    twin_ax.spines['left'].set_color(color_1)\n",
        "    twin_ax.spines['right'].set_color(color_2)\n",
        "    twin_ax.tick_params(direction='in')\n",
        "    twin_ax.tick_params(axis='y', colors=color_2)\n",
        "    twin_ax.set_ylabel('Cumulative Density Function (CDF)', color=color_2, rotation=270, labelpad=12)\n",
        "    twin_ax.spines['top'].set_visible(False)\n",
        "    twin_ax.spines['bottom'].set_visible(False)"
      ],
      "metadata": {
        "id": "f2vIKebP2FEP"
      },
      "execution_count": 3,
      "outputs": []
    },
    {
      "cell_type": "markdown",
      "source": [
        "**Example 1**: In this example, we combine one Unifrom and one Normal (Gaussian) distribution and take 10,000 samples from the resulting compound PDF: "
      ],
      "metadata": {
        "id": "KrpsUNaX0-6h"
      }
    },
    {
      "cell_type": "code",
      "source": [
        "weights = [.4, .6]\n",
        "N_s = 10000\n",
        "x = np.linspace(-7.5, 7.5, 100000)\n",
        "uniform_distribution = uniform(-5, 2) \n",
        "normal_distribution = norm(0, 2)\n",
        "cdist = compound_distribution([uniform_distribution, normal_distribution], weights)\n",
        "PDF = cdist.pdf(x)\n",
        "CDF = cdist.cdf(x)\n",
        "sample = cdist.rvs(N_s)"
      ],
      "metadata": {
        "id": "rrp0k_A81Ubk"
      },
      "execution_count": 4,
      "outputs": []
    },
    {
      "cell_type": "markdown",
      "source": [
        "Using the helper function, we can plot the PDF, CDF, and histogram of the random sample:"
      ],
      "metadata": {
        "id": "j53KU6-Q2NNr"
      }
    },
    {
      "cell_type": "code",
      "source": [
        "plot_compound(x, CDF, PDF, sample, bins=150)"
      ],
      "metadata": {
        "colab": {
          "base_uri": "https://localhost:8080/",
          "height": 266
        },
        "id": "lyt1ABe-2TD0",
        "outputId": "84084953-9fef-4fc2-a011-f844697591da"
      },
      "execution_count": 5,
      "outputs": [
        {
          "output_type": "display_data",
          "data": {
            "text/plain": [
              "<Figure size 432x288 with 2 Axes>"
            ],
            "image/png": "[encoded data removed]"
          },
          "metadata": {
            "needs_background": "light"
          }
        }
      ]
    },
    {
      "cell_type": "markdown",
      "source": [
        "**Example 2**: In this example, we combine one Unifrom, one Normal (Gaussian), and one Exponential distribution and take 50,000 samples from the resulting compound PDF: "
      ],
      "metadata": {
        "id": "DaaOpW7y3lXD"
      }
    },
    {
      "cell_type": "code",
      "source": [
        "weights = [.2, .3, .5]\n",
        "N_s = 50000\n",
        "x = np.linspace(-7.5, 7.5, 100000)\n",
        "uniform_distribution = uniform(1, 3) \n",
        "normal_distribution = norm(1, .5)\n",
        "exp_distribution = expon(-6, 2)\n",
        "cdist = compound_distribution([uniform_distribution, normal_distribution, exp_distribution], weights)\n",
        "PDF = cdist.pdf(x)\n",
        "CDF = cdist.cdf(x)\n",
        "sample = cdist.rvs(N_s)"
      ],
      "metadata": {
        "id": "9PpFFJkW3lXJ"
      },
      "execution_count": 6,
      "outputs": []
    },
    {
      "cell_type": "markdown",
      "source": [
        "Using the helper function, we can plot the CDF, PDF, and histogram of the sample:"
      ],
      "metadata": {
        "id": "jye4cIc83lXK"
      }
    },
    {
      "cell_type": "code",
      "source": [
        "plot_compound(x, CDF, PDF, sample, bins=300)"
      ],
      "metadata": {
        "colab": {
          "base_uri": "https://localhost:8080/",
          "height": 266
        },
        "outputId": "0751e2b1-64ab-4107-e799-79076adb4734",
        "id": "o_5E9Xcs3lXK"
      },
      "execution_count": 7,
      "outputs": [
        {
          "output_type": "display_data",
          "data": {
            "text/plain": [
              "<Figure size 432x288 with 2 Axes>"
            ],
            "image/png": "[encoded data removed]"
          },
          "metadata": {
            "needs_background": "light"
          }
        }
      ]
    }
  ]
}